{
  "nbformat": 4,
  "nbformat_minor": 0,
  "metadata": {
    "colab": {
      "provenance": []
    },
    "kernelspec": {
      "name": "python3",
      "display_name": "Python 3"
    },
    "language_info": {
      "name": "python"
    }
  },
  "cells": [
    {
      "cell_type": "code",
      "execution_count": null,
      "metadata": {
        "id": "4sLrA5OhGZTl"
      },
      "outputs": [],
      "source": [
        "# Importing Liberaries\n",
        "import pandas as pd\n",
        "import numpy as np\n",
        "import matplotlib.pyplot as plt\n",
        "import seaborn as sns"
      ]
    },
    {
      "cell_type": "markdown",
      "source": [
        "Tasks - Load the data and study its features succh as \n",
        "\n",
        "\n",
        "*   FIXED ACIDITY\n",
        "*   VOLATILE ACIDITY\n",
        "*   Citric Acid etc\n",
        "\n",
        "\n",
        "\n"
      ],
      "metadata": {
        "id": "mWRgquHFHZC-"
      }
    },
    {
      "cell_type": "code",
      "source": [
        "# Reading the csv file. \n",
        "data = pd.read_csv('/content/wine_quality.csv')"
      ],
      "metadata": {
        "id": "_bcwvlhRGpvn"
      },
      "execution_count": null,
      "outputs": []
    },
    {
      "cell_type": "code",
      "source": [
        "# viewing data\n",
        "data.head()"
      ],
      "metadata": {
        "colab": {
          "base_uri": "https://localhost:8080/",
          "height": 206
        },
        "id": "mSRLm0OsHYAM",
        "outputId": "907503c2-24f3-42bf-d073-651f0c3cb378"
      },
      "execution_count": null,
      "outputs": [
        {
          "output_type": "execute_result",
          "data": {
            "text/plain": [
              "   fixed acidity  volatile acidity  citric acid  residual sugar  chlorides  \\\n",
              "0            7.0              0.27         0.36            20.7      0.045   \n",
              "1            6.3              0.30         0.34             1.6      0.049   \n",
              "2            8.1              0.28         0.40             6.9      0.050   \n",
              "3            7.2              0.23         0.32             8.5      0.058   \n",
              "4            7.2              0.23         0.32             8.5      0.058   \n",
              "\n",
              "   free sulfur dioxide  total sulfur dioxide  density    pH  sulphates  \\\n",
              "0                 45.0                 170.0   1.0010  3.00       0.45   \n",
              "1                 14.0                 132.0   0.9940  3.30       0.49   \n",
              "2                 30.0                  97.0   0.9951  3.26       0.44   \n",
              "3                 47.0                 186.0   0.9956  3.19       0.40   \n",
              "4                 47.0                 186.0   0.9956  3.19       0.40   \n",
              "\n",
              "   alcohol  quality  \n",
              "0      8.8        6  \n",
              "1      9.5        6  \n",
              "2     10.1        6  \n",
              "3      9.9        6  \n",
              "4      9.9        6  "
            ],
            "text/html": [
              "\n",
              "  <div id=\"df-0b137f7f-733d-4594-ac45-cacaa44800cc\">\n",
              "    <div class=\"colab-df-container\">\n",
              "      <div>\n",
              "<style scoped>\n",
              "    .dataframe tbody tr th:only-of-type {\n",
              "        vertical-align: middle;\n",
              "    }\n",
              "\n",
              "    .dataframe tbody tr th {\n",
              "        vertical-align: top;\n",
              "    }\n",
              "\n",
              "    .dataframe thead th {\n",
              "        text-align: right;\n",
              "    }\n",
              "</style>\n",
              "<table border=\"1\" class=\"dataframe\">\n",
              "  <thead>\n",
              "    <tr style=\"text-align: right;\">\n",
              "      <th></th>\n",
              "      <th>fixed acidity</th>\n",
              "      <th>volatile acidity</th>\n",
              "      <th>citric acid</th>\n",
              "      <th>residual sugar</th>\n",
              "      <th>chlorides</th>\n",
              "      <th>free sulfur dioxide</th>\n",
              "      <th>total sulfur dioxide</th>\n",
              "      <th>density</th>\n",
              "      <th>pH</th>\n",
              "      <th>sulphates</th>\n",
              "      <th>alcohol</th>\n",
              "      <th>quality</th>\n",
              "    </tr>\n",
              "  </thead>\n",
              "  <tbody>\n",
              "    <tr>\n",
              "      <th>0</th>\n",
              "      <td>7.0</td>\n",
              "      <td>0.27</td>\n",
              "      <td>0.36</td>\n",
              "      <td>20.7</td>\n",
              "      <td>0.045</td>\n",
              "      <td>45.0</td>\n",
              "      <td>170.0</td>\n",
              "      <td>1.0010</td>\n",
              "      <td>3.00</td>\n",
              "      <td>0.45</td>\n",
              "      <td>8.8</td>\n",
              "      <td>6</td>\n",
              "    </tr>\n",
              "    <tr>\n",
              "      <th>1</th>\n",
              "      <td>6.3</td>\n",
              "      <td>0.30</td>\n",
              "      <td>0.34</td>\n",
              "      <td>1.6</td>\n",
              "      <td>0.049</td>\n",
              "      <td>14.0</td>\n",
              "      <td>132.0</td>\n",
              "      <td>0.9940</td>\n",
              "      <td>3.30</td>\n",
              "      <td>0.49</td>\n",
              "      <td>9.5</td>\n",
              "      <td>6</td>\n",
              "    </tr>\n",
              "    <tr>\n",
              "      <th>2</th>\n",
              "      <td>8.1</td>\n",
              "      <td>0.28</td>\n",
              "      <td>0.40</td>\n",
              "      <td>6.9</td>\n",
              "      <td>0.050</td>\n",
              "      <td>30.0</td>\n",
              "      <td>97.0</td>\n",
              "      <td>0.9951</td>\n",
              "      <td>3.26</td>\n",
              "      <td>0.44</td>\n",
              "      <td>10.1</td>\n",
              "      <td>6</td>\n",
              "    </tr>\n",
              "    <tr>\n",
              "      <th>3</th>\n",
              "      <td>7.2</td>\n",
              "      <td>0.23</td>\n",
              "      <td>0.32</td>\n",
              "      <td>8.5</td>\n",
              "      <td>0.058</td>\n",
              "      <td>47.0</td>\n",
              "      <td>186.0</td>\n",
              "      <td>0.9956</td>\n",
              "      <td>3.19</td>\n",
              "      <td>0.40</td>\n",
              "      <td>9.9</td>\n",
              "      <td>6</td>\n",
              "    </tr>\n",
              "    <tr>\n",
              "      <th>4</th>\n",
              "      <td>7.2</td>\n",
              "      <td>0.23</td>\n",
              "      <td>0.32</td>\n",
              "      <td>8.5</td>\n",
              "      <td>0.058</td>\n",
              "      <td>47.0</td>\n",
              "      <td>186.0</td>\n",
              "      <td>0.9956</td>\n",
              "      <td>3.19</td>\n",
              "      <td>0.40</td>\n",
              "      <td>9.9</td>\n",
              "      <td>6</td>\n",
              "    </tr>\n",
              "  </tbody>\n",
              "</table>\n",
              "</div>\n",
              "      <button class=\"colab-df-convert\" onclick=\"convertToInteractive('df-0b137f7f-733d-4594-ac45-cacaa44800cc')\"\n",
              "              title=\"Convert this dataframe to an interactive table.\"\n",
              "              style=\"display:none;\">\n",
              "        \n",
              "  <svg xmlns=\"http://www.w3.org/2000/svg\" height=\"24px\"viewBox=\"0 0 24 24\"\n",
              "       width=\"24px\">\n",
              "    <path d=\"M0 0h24v24H0V0z\" fill=\"none\"/>\n",
              "    <path d=\"M18.56 5.44l.94 2.06.94-2.06 2.06-.94-2.06-.94-.94-2.06-.94 2.06-2.06.94zm-11 1L8.5 8.5l.94-2.06 2.06-.94-2.06-.94L8.5 2.5l-.94 2.06-2.06.94zm10 10l.94 2.06.94-2.06 2.06-.94-2.06-.94-.94-2.06-.94 2.06-2.06.94z\"/><path d=\"M17.41 7.96l-1.37-1.37c-.4-.4-.92-.59-1.43-.59-.52 0-1.04.2-1.43.59L10.3 9.45l-7.72 7.72c-.78.78-.78 2.05 0 2.83L4 21.41c.39.39.9.59 1.41.59.51 0 1.02-.2 1.41-.59l7.78-7.78 2.81-2.81c.8-.78.8-2.07 0-2.86zM5.41 20L4 18.59l7.72-7.72 1.47 1.35L5.41 20z\"/>\n",
              "  </svg>\n",
              "      </button>\n",
              "      \n",
              "  <style>\n",
              "    .colab-df-container {\n",
              "      display:flex;\n",
              "      flex-wrap:wrap;\n",
              "      gap: 12px;\n",
              "    }\n",
              "\n",
              "    .colab-df-convert {\n",
              "      background-color: #E8F0FE;\n",
              "      border: none;\n",
              "      border-radius: 50%;\n",
              "      cursor: pointer;\n",
              "      display: none;\n",
              "      fill: #1967D2;\n",
              "      height: 32px;\n",
              "      padding: 0 0 0 0;\n",
              "      width: 32px;\n",
              "    }\n",
              "\n",
              "    .colab-df-convert:hover {\n",
              "      background-color: #E2EBFA;\n",
              "      box-shadow: 0px 1px 2px rgba(60, 64, 67, 0.3), 0px 1px 3px 1px rgba(60, 64, 67, 0.15);\n",
              "      fill: #174EA6;\n",
              "    }\n",
              "\n",
              "    [theme=dark] .colab-df-convert {\n",
              "      background-color: #3B4455;\n",
              "      fill: #D2E3FC;\n",
              "    }\n",
              "\n",
              "    [theme=dark] .colab-df-convert:hover {\n",
              "      background-color: #434B5C;\n",
              "      box-shadow: 0px 1px 3px 1px rgba(0, 0, 0, 0.15);\n",
              "      filter: drop-shadow(0px 1px 2px rgba(0, 0, 0, 0.3));\n",
              "      fill: #FFFFFF;\n",
              "    }\n",
              "  </style>\n",
              "\n",
              "      <script>\n",
              "        const buttonEl =\n",
              "          document.querySelector('#df-0b137f7f-733d-4594-ac45-cacaa44800cc button.colab-df-convert');\n",
              "        buttonEl.style.display =\n",
              "          google.colab.kernel.accessAllowed ? 'block' : 'none';\n",
              "\n",
              "        async function convertToInteractive(key) {\n",
              "          const element = document.querySelector('#df-0b137f7f-733d-4594-ac45-cacaa44800cc');\n",
              "          const dataTable =\n",
              "            await google.colab.kernel.invokeFunction('convertToInteractive',\n",
              "                                                     [key], {});\n",
              "          if (!dataTable) return;\n",
              "\n",
              "          const docLinkHtml = 'Like what you see? Visit the ' +\n",
              "            '<a target=\"_blank\" href=https://colab.research.google.com/notebooks/data_table.ipynb>data table notebook</a>'\n",
              "            + ' to learn more about interactive tables.';\n",
              "          element.innerHTML = '';\n",
              "          dataTable['output_type'] = 'display_data';\n",
              "          await google.colab.output.renderOutput(dataTable, element);\n",
              "          const docLink = document.createElement('div');\n",
              "          docLink.innerHTML = docLinkHtml;\n",
              "          element.appendChild(docLink);\n",
              "        }\n",
              "      </script>\n",
              "    </div>\n",
              "  </div>\n",
              "  "
            ]
          },
          "metadata": {},
          "execution_count": 3
        }
      ]
    },
    {
      "cell_type": "code",
      "source": [
        "# Getting the dimension of the dataset\n",
        "data.shape"
      ],
      "metadata": {
        "colab": {
          "base_uri": "https://localhost:8080/"
        },
        "id": "yx3odMM4INK5",
        "outputId": "d3e150b3-f0ea-4b23-b094-7e93fee71cfd"
      },
      "execution_count": null,
      "outputs": [
        {
          "output_type": "execute_result",
          "data": {
            "text/plain": [
              "(4898, 12)"
            ]
          },
          "metadata": {},
          "execution_count": 5
        }
      ]
    },
    {
      "cell_type": "code",
      "source": [
        "# Getting row names in dataframe\n",
        "data.index"
      ],
      "metadata": {
        "colab": {
          "base_uri": "https://localhost:8080/"
        },
        "id": "J1YnRpQtIuWi",
        "outputId": "832ebed6-14be-4d70-a6d2-4c4c214f7734"
      },
      "execution_count": null,
      "outputs": [
        {
          "output_type": "execute_result",
          "data": {
            "text/plain": [
              "RangeIndex(start=0, stop=4898, step=1)"
            ]
          },
          "metadata": {},
          "execution_count": 7
        }
      ]
    },
    {
      "cell_type": "code",
      "source": [
        "# Getting the columns names in dataframe\n",
        "data.columns"
      ],
      "metadata": {
        "colab": {
          "base_uri": "https://localhost:8080/"
        },
        "id": "V1JtVpvrI4QH",
        "outputId": "27fbae5a-9813-4d1f-e1d8-2f5850281769"
      },
      "execution_count": null,
      "outputs": [
        {
          "output_type": "execute_result",
          "data": {
            "text/plain": [
              "Index(['fixed acidity', 'volatile acidity', 'citric acid', 'residual sugar',\n",
              "       'chlorides', 'free sulfur dioxide', 'total sulfur dioxide', 'density',\n",
              "       'pH', 'sulphates', 'alcohol', 'quality'],\n",
              "      dtype='object')"
            ]
          },
          "metadata": {},
          "execution_count": 8
        }
      ]
    },
    {
      "cell_type": "code",
      "source": [
        "# Getting basic info of data\n",
        "data.info()"
      ],
      "metadata": {
        "colab": {
          "base_uri": "https://localhost:8080/"
        },
        "id": "NoTJz6a9JABh",
        "outputId": "b966790e-1b38-431d-dea6-6d99b24c1be6"
      },
      "execution_count": null,
      "outputs": [
        {
          "output_type": "stream",
          "name": "stdout",
          "text": [
            "<class 'pandas.core.frame.DataFrame'>\n",
            "RangeIndex: 4898 entries, 0 to 4897\n",
            "Data columns (total 12 columns):\n",
            " #   Column                Non-Null Count  Dtype  \n",
            "---  ------                --------------  -----  \n",
            " 0   fixed acidity         4898 non-null   float64\n",
            " 1   volatile acidity      4898 non-null   float64\n",
            " 2   citric acid           4898 non-null   float64\n",
            " 3   residual sugar        4898 non-null   float64\n",
            " 4   chlorides             4898 non-null   float64\n",
            " 5   free sulfur dioxide   4898 non-null   float64\n",
            " 6   total sulfur dioxide  4898 non-null   float64\n",
            " 7   density               4898 non-null   float64\n",
            " 8   pH                    4898 non-null   float64\n",
            " 9   sulphates             4898 non-null   float64\n",
            " 10  alcohol               4898 non-null   float64\n",
            " 11  quality               4898 non-null   int64  \n",
            "dtypes: float64(11), int64(1)\n",
            "memory usage: 459.3 KB\n"
          ]
        }
      ]
    },
    {
      "cell_type": "markdown",
      "source": [
        "**Observation from task 1** - There are 4898 rows and 12 columns  in the data. Each row contains the details of the types of acids present in white wine and the quality. \n",
        "The features in dataset are \n",
        "1) Differnt acids and their quality. "
      ],
      "metadata": {
        "id": "rKxdmlhXJTY1"
      }
    },
    {
      "cell_type": "markdown",
      "source": [
        "# **Task2** - view the distributions of the various features in the dataset and calculate their central tendancies. \n"
      ],
      "metadata": {
        "id": "oZ8qvRWUJ81n"
      }
    },
    {
      "cell_type": "code",
      "source": [
        "# Creating Histogram of fixed acidity feature. \n",
        "plt.figure(figsize = (11, 6))\n",
        "sns.histplot(data = data, x = 'fixed acidity', color = 'orange', edgecolor = 'linen', alpha = 0.5, bins = 5)\n",
        "plt.title('Histogram of fixed acidity')\n",
        "plt.xlabel('fixed acidity')\n",
        "plt.ylabel('count')\n",
        "plt.show()"
      ],
      "metadata": {
        "colab": {
          "base_uri": "https://localhost:8080/",
          "height": 404
        },
        "id": "4WEFRIyCJAPD",
        "outputId": "65c6bc51-123f-435a-e6a9-4888ecad569b"
      },
      "execution_count": null,
      "outputs": [
        {
          "output_type": "display_data",
          "data": {
            "text/plain": [
              "<Figure size 792x432 with 1 Axes>"
            ],
            "image/png": "[encoded data removed]"
          },
          "metadata": {
            "needs_background": "light"
          }
        }
      ]
    },
    {
      "cell_type": "markdown",
      "source": [
        "Observation - we observe that the histogram is normally distributed. \n",
        "            The maximum count of values lies between  6 to 8. \n",
        "            Let's See the measures of central tendancy. "
      ],
      "metadata": {
        "id": "TcseiDE8L6i6"
      }
    },
    {
      "cell_type": "code",
      "source": [
        "# Calculate the mean of the 'fixed acidity' feature. \n",
        "data['fixed acidity'].mean()"
      ],
      "metadata": {
        "colab": {
          "base_uri": "https://localhost:8080/"
        },
        "id": "w5vvIMY5MO_g",
        "outputId": "5552b1c0-626a-40d0-fca4-e261cdc24718"
      },
      "execution_count": null,
      "outputs": [
        {
          "output_type": "execute_result",
          "data": {
            "text/plain": [
              "6.854787668436097"
            ]
          },
          "metadata": {},
          "execution_count": 11
        }
      ]
    },
    {
      "cell_type": "code",
      "source": [
        "# Calculate the median of the ' fixed acidity' feature. \n",
        "data['fixed acidity'].median()"
      ],
      "metadata": {
        "colab": {
          "base_uri": "https://localhost:8080/"
        },
        "id": "e5143lLaMt6s",
        "outputId": "a71e8853-b33d-4866-a8c4-2c528c6da8f7"
      },
      "execution_count": null,
      "outputs": [
        {
          "output_type": "execute_result",
          "data": {
            "text/plain": [
              "6.8"
            ]
          },
          "metadata": {},
          "execution_count": 12
        }
      ]
    },
    {
      "cell_type": "code",
      "source": [
        "# Creating histogram of 'fixed acidity' feature and also showing mean and median on it. \n",
        "plt.figure(figsize = (11, 6))\n",
        "sns.histplot(data = data, x = 'fixed acidity', color = 'orange', edgecolor = 'linen', alpha = 0.5, bins = 5)\n",
        "plt.title('Histogram of fixed acidity')\n",
        "plt.xlabel('fixed acidity')\n",
        "plt.ylabel('Count')\n",
        "plt.vlines(data['fixed acidity'].mean(), ymin = 0, ymax = 4000, colors = 'blue', label = 'Mean')\n",
        "plt.vlines(data['fixed acidity'].median(), ymin = 0, ymax = 4000, colors = 'red', label = 'Median')\n",
        "plt.legend()\n",
        "plt.show()"
      ],
      "metadata": {
        "colab": {
          "base_uri": "https://localhost:8080/",
          "height": 404
        },
        "id": "FaoUE-xYM9Cu",
        "outputId": "58cf8320-d6dd-4b58-84a1-eb109b9d9fc1"
      },
      "execution_count": null,
      "outputs": [
        {
          "output_type": "display_data",
          "data": {
            "text/plain": [
              "<Figure size 792x432 with 1 Axes>"
            ],
            "image/png": "[encoded data removed]"
          },
          "metadata": {
            "needs_background": "light"
          }
        }
      ]
    },
    {
      "cell_type": "markdown",
      "source": [
        "# Observations \n",
        "Mean and median are clear representatives of data. \n",
        "mean and median are very close to each other. \n",
        "we can take any of the two parameters as the measure of central tendency. "
      ],
      "metadata": {
        "id": "MAvJgu7ZPCA1"
      }
    },
    {
      "cell_type": "code",
      "source": [
        "# Creating Histogram of 'volatile acidity' feature\n",
        "plt.figure(figsize = (11, 6))\n",
        "sns.histplot(data = data, x = 'volatile acidity', color = 'green', edgecolor = 'linen', alpha = 0.5, bins = 5)\n",
        "plt.title('Histogram of volatile acidity')\n",
        "plt.xlabel('volatile acidity')\n",
        "plt.ylabel('Count')\n",
        "plt.show()"
      ],
      "metadata": {
        "colab": {
          "base_uri": "https://localhost:8080/",
          "height": 404
        },
        "id": "3e_CecbiPVOg",
        "outputId": "0f383da3-a3c9-4e6d-cb0d-117f378e9cc2"
      },
      "execution_count": null,
      "outputs": [
        {
          "output_type": "display_data",
          "data": {
            "text/plain": [
              "<Figure size 792x432 with 1 Axes>"
            ],
            "image/png": "[encoded data removed]"
          },
          "metadata": {
            "needs_background": "light"
          }
        }
      ]
    },
    {
      "cell_type": "markdown",
      "source": [
        "# Observations\n",
        "Majority of count lies around 0.2 acidity. \n",
        "Our data is right skewed, which positively skewed. \n",
        "As we see there is skewness , now we can see the distribution using distplot function."
      ],
      "metadata": {
        "id": "BsXYmQAlQUcB"
      }
    },
    {
      "cell_type": "code",
      "source": [
        "# plotting distplot using 'volatile acidity' feature. \n",
        "plt.figure(figsize = (11, 6))\n",
        "sns.distplot(data['volatile acidity'], color = 'blue')\n",
        "plt.title('Distplot of volatile acidity')\n",
        "plt.xlabel('volatile acidity')\n",
        "plt.ylabel('Density')\n",
        "plt.show()"
      ],
      "metadata": {
        "colab": {
          "base_uri": "https://localhost:8080/",
          "height": 460
        },
        "id": "pHrhc3iFRVc4",
        "outputId": "74505ad7-02d0-454e-b6d6-8dc8757fd5f9"
      },
      "execution_count": null,
      "outputs": [
        {
          "output_type": "stream",
          "name": "stderr",
          "text": [
            "/usr/local/lib/python3.8/dist-packages/seaborn/distributions.py:2619: FutureWarning: `distplot` is a deprecated function and will be removed in a future version. Please adapt your code to use either `displot` (a figure-level function with similar flexibility) or `histplot` (an axes-level function for histograms).\n",
            "  warnings.warn(msg, FutureWarning)\n"
          ]
        },
        {
          "output_type": "display_data",
          "data": {
            "text/plain": [
              "<Figure size 792x432 with 1 Axes>"
            ],
            "image/png": "[encoded data removed]"
          },
          "metadata": {
            "needs_background": "light"
          }
        }
      ]
    },
    {
      "cell_type": "markdown",
      "source": [
        "# Observation\n",
        "\n",
        "\n",
        "*   The above plot shows the normal distribution\n",
        "*   The normal distribution is described by the mean and the standard daviation. \n",
        "*   The normal distribution is often reffered as bell shaped. \n",
        "*   The median and mean are equal, it has only one mode.\n",
        "\n",
        "\n",
        "\n"
      ],
      "metadata": {
        "id": "Ap5-NZN3TWEb"
      }
    },
    {
      "cell_type": "code",
      "source": [
        "# Calculating skewness of 'volatile acidity'\n",
        "data['volatile acidity'].skew()\n",
        "# As the skewness is greater than 0, hence it is positively skewed. "
      ],
      "metadata": {
        "colab": {
          "base_uri": "https://localhost:8080/"
        },
        "id": "0JI44arEUHT7",
        "outputId": "9cc17b2b-3308-43f1-844c-0aae2e4631bf"
      },
      "execution_count": null,
      "outputs": [
        {
          "output_type": "execute_result",
          "data": {
            "text/plain": [
              "1.5769795029952025"
            ]
          },
          "metadata": {},
          "execution_count": 20
        }
      ]
    },
    {
      "cell_type": "code",
      "source": [
        "# Calculating the mean of 'volatile acidity' feature\n",
        "data['volatile acidity'].mean()"
      ],
      "metadata": {
        "colab": {
          "base_uri": "https://localhost:8080/"
        },
        "id": "aCbnh3taUb5x",
        "outputId": "fdc31b0d-3623-461c-c50c-43309027287c"
      },
      "execution_count": null,
      "outputs": [
        {
          "output_type": "execute_result",
          "data": {
            "text/plain": [
              "0.27824111882400976"
            ]
          },
          "metadata": {},
          "execution_count": 21
        }
      ]
    },
    {
      "cell_type": "code",
      "source": [
        "# Calculating the median of 'volatile acidity' feature\n",
        "data['volatile acidity'].median()"
      ],
      "metadata": {
        "colab": {
          "base_uri": "https://localhost:8080/"
        },
        "id": "jJOh1Io0UmTp",
        "outputId": "6d20acc6-ae71-4522-96c0-ef79eb721d76"
      },
      "execution_count": null,
      "outputs": [
        {
          "output_type": "execute_result",
          "data": {
            "text/plain": [
              "0.26"
            ]
          },
          "metadata": {},
          "execution_count": 22
        }
      ]
    },
    {
      "cell_type": "code",
      "source": [
        "# Plotting histogram of volatile acidity with mean and median\n",
        "plt.figure(figsize = (11, 6))\n",
        "sns.histplot(data = data, x = 'volatile acidity', color = 'green', edgecolor = 'linen', alpha = 0.5, bins = 5)\n",
        "plt.title('Histogram of volatile acidity')\n",
        "plt.xlabel('volatile acidity')\n",
        "plt.ylabel('Density')\n",
        "\n",
        "plt.vlines(data['volatile acidity'].mean(), ymin = 0, ymax = 4000,color = 'blue', label = 'Mean')\n",
        "plt.vlines(data['volatile acidity'].median(), ymin = 0, ymax = 4000, color = 'red', label = 'Median')\n",
        "plt.legend()\n",
        "plt.show()"
      ],
      "metadata": {
        "colab": {
          "base_uri": "https://localhost:8080/",
          "height": 404
        },
        "id": "hpBcONbYU5ZP",
        "outputId": "207bf1f5-a1bf-4ab7-db24-db92590d957c"
      },
      "execution_count": null,
      "outputs": [
        {
          "output_type": "display_data",
          "data": {
            "text/plain": [
              "<Figure size 792x432 with 1 Axes>"
            ],
            "image/png": "[encoded data removed]"
          },
          "metadata": {
            "needs_background": "light"
          }
        }
      ]
    },
    {
      "cell_type": "markdown",
      "source": [
        "# Observation\n",
        "\n",
        "\n",
        "*   The Mean and Median are very close to each other. \n",
        "*   We can safely choose the mean as the measure of central tendancy here. \n",
        "\n"
      ],
      "metadata": {
        "id": "VdJgP9WXWYC9"
      }
    },
    {
      "cell_type": "code",
      "source": [
        "# Plotting histogram of citric acidity\n",
        "plt.figure(figsize = (11, 6))\n",
        "sns.histplot(data = data, x = 'citric acid', color = 'orange', edgecolor = 'linen', alpha = 0.5, bins = 5)\n",
        "plt.title('Historam of citric acid')\n",
        "plt.xlabel('citric acid')\n",
        "plt.ylabel('count')\n",
        "plt.show()"
      ],
      "metadata": {
        "colab": {
          "base_uri": "https://localhost:8080/",
          "height": 404
        },
        "id": "tuNLneqTWrZn",
        "outputId": "49024e7d-0725-481e-d61e-7d2504f71427"
      },
      "execution_count": null,
      "outputs": [
        {
          "output_type": "display_data",
          "data": {
            "text/plain": [
              "<Figure size 792x432 with 1 Axes>"
            ],
            "image/png": "[encoded data removed]"
          },
          "metadata": {
            "needs_background": "light"
          }
        }
      ]
    },
    {
      "cell_type": "markdown",
      "source": [
        "# Observation\n",
        "The graph is right skewed, so, we will plot distplot. "
      ],
      "metadata": {
        "id": "lzQtjB4_ZeKQ"
      }
    },
    {
      "cell_type": "code",
      "source": [
        "# Plotting distplott of citric acid\n",
        "plt.figure(figsize = (11, 6))\n",
        "sns.distplot(data['citric acid'], color = 'blue')\n",
        "plt.title('Distplot of citric acid')\n",
        "plt.xlabel('citric acid')\n",
        "plt.ylabel('count')\n",
        "plt.show()"
      ],
      "metadata": {
        "colab": {
          "base_uri": "https://localhost:8080/",
          "height": 460
        },
        "id": "mwmIGDcNZmS8",
        "outputId": "d456b6f4-b7b4-4d98-8d4c-99370e52e503"
      },
      "execution_count": null,
      "outputs": [
        {
          "output_type": "stream",
          "name": "stderr",
          "text": [
            "/usr/local/lib/python3.8/dist-packages/seaborn/distributions.py:2619: FutureWarning: `distplot` is a deprecated function and will be removed in a future version. Please adapt your code to use either `displot` (a figure-level function with similar flexibility) or `histplot` (an axes-level function for histograms).\n",
            "  warnings.warn(msg, FutureWarning)\n"
          ]
        },
        {
          "output_type": "display_data",
          "data": {
            "text/plain": [
              "<Figure size 792x432 with 1 Axes>"
            ],
            "image/png": "[encoded data removed]"
          },
          "metadata": {
            "needs_background": "light"
          }
        }
      ]
    },
    {
      "cell_type": "markdown",
      "source": [
        "# Observation\n",
        "The graph is normally distributed, we will get the measures of central tendency,."
      ],
      "metadata": {
        "id": "onzmaBYTaCoI"
      }
    },
    {
      "cell_type": "code",
      "source": [
        "# Finding skewness of the graph\n",
        "data['citric acid'].skew()\n",
        "# As we see skewness is greater than 0 , hence it is positively skewed. "
      ],
      "metadata": {
        "colab": {
          "base_uri": "https://localhost:8080/"
        },
        "id": "br8iocI-aPT1",
        "outputId": "707d98f3-babf-489b-f3ea-3d3d1a4d37ef"
      },
      "execution_count": null,
      "outputs": [
        {
          "output_type": "execute_result",
          "data": {
            "text/plain": [
              "1.2819203981671066"
            ]
          },
          "metadata": {},
          "execution_count": 28
        }
      ]
    },
    {
      "cell_type": "code",
      "source": [
        "# Calculating the mean  of citric acid\n",
        "data['citric acid'].mean()"
      ],
      "metadata": {
        "colab": {
          "base_uri": "https://localhost:8080/"
        },
        "id": "Nfj9wJS3agke",
        "outputId": "db58b996-a155-4bc9-9d5a-ef73f7378874"
      },
      "execution_count": null,
      "outputs": [
        {
          "output_type": "execute_result",
          "data": {
            "text/plain": [
              "0.33419150673744386"
            ]
          },
          "metadata": {},
          "execution_count": 29
        }
      ]
    },
    {
      "cell_type": "code",
      "source": [
        "# Calculating mean of citric acid\n",
        "data['citric acid'].median()"
      ],
      "metadata": {
        "colab": {
          "base_uri": "https://localhost:8080/"
        },
        "id": "pDGK6YX0at0o",
        "outputId": "a0a27f62-ad83-4d31-b699-59da8f6c8b06"
      },
      "execution_count": null,
      "outputs": [
        {
          "output_type": "execute_result",
          "data": {
            "text/plain": [
              "0.32"
            ]
          },
          "metadata": {},
          "execution_count": 30
        }
      ]
    },
    {
      "cell_type": "code",
      "source": [
        "# Plotting mean and median on the histogram of citric acid \n",
        "plt.figure(figsize = (11, 6))\n",
        "sns.histplot(data = data, x = 'citric acid', color = 'orange', edgecolor = 'linen', alpha = 0.5, bins = 5)\n",
        "plt.title('Histogram of citric acid')\n",
        "plt.xlabel('citric acid')\n",
        "plt.ylabel('count')\n",
        "\n",
        "plt.vlines(data['citric acid'].mean(), ymin = 0, ymax = 4000, color = 'blue', label = 'Mean')\n",
        "plt.vlines(data['citric acid'].median(), ymin = 0, ymax = 4000, color = 'red', label = 'Median')\n",
        "plt.legend()\n",
        "plt.show()"
      ],
      "metadata": {
        "colab": {
          "base_uri": "https://localhost:8080/",
          "height": 404
        },
        "id": "uCmqpt1-a18f",
        "outputId": "19ee69de-c338-4f17-ec34-0f7e639e36e8"
      },
      "execution_count": null,
      "outputs": [
        {
          "output_type": "display_data",
          "data": {
            "text/plain": [
              "<Figure size 792x432 with 1 Axes>"
            ],
            "image/png": "[encoded data removed]"
          },
          "metadata": {
            "needs_background": "light"
          }
        }
      ]
    },
    {
      "cell_type": "markdown",
      "source": [
        "# Observations \n",
        "As we see, there is no much differnce between mean and median we, can use mean as our measure of central tendancy. "
      ],
      "metadata": {
        "id": "Zw1ZxFwubt9t"
      }
    },
    {
      "cell_type": "code",
      "source": [
        "# Creating a count plot of the quality feature. \n",
        "plt.figure(figsize = (11, 6))\n",
        "sns.countplot(data['quality'])\n",
        "plt.title('Count Plot of Quality')\n",
        "plt.xlabel('Quality')\n",
        "plt.ylabel('Count')\n",
        "plt.show()"
      ],
      "metadata": {
        "colab": {
          "base_uri": "https://localhost:8080/",
          "height": 460
        },
        "id": "O0dX09TKb5it",
        "outputId": "2587fb9b-6bef-4e61-c05d-6ae9adbaf4a6"
      },
      "execution_count": null,
      "outputs": [
        {
          "output_type": "stream",
          "name": "stderr",
          "text": [
            "/usr/local/lib/python3.8/dist-packages/seaborn/_decorators.py:36: FutureWarning: Pass the following variable as a keyword arg: x. From version 0.12, the only valid positional argument will be `data`, and passing other arguments without an explicit keyword will result in an error or misinterpretation.\n",
            "  warnings.warn(\n"
          ]
        },
        {
          "output_type": "display_data",
          "data": {
            "text/plain": [
              "<Figure size 792x432 with 1 Axes>"
            ],
            "image/png": "[encoded data removed]"
          },
          "metadata": {
            "needs_background": "light"
          }
        }
      ]
    },
    {
      "cell_type": "markdown",
      "source": [
        "# Observation\n",
        "It is clear that 6 is the highest count of the quality, whereas 9 is negligible. "
      ],
      "metadata": {
        "id": "27ctgU0ugTvx"
      }
    },
    {
      "cell_type": "code",
      "source": [
        "# Counting the number of occurrences of differnt categories of the Quality feature. \n",
        "data['quality'].value_counts()"
      ],
      "metadata": {
        "colab": {
          "base_uri": "https://localhost:8080/"
        },
        "id": "JMHF-98GkSVs",
        "outputId": "2cbdc714-2167-4796-ed7e-f02239d68b81"
      },
      "execution_count": null,
      "outputs": [
        {
          "output_type": "execute_result",
          "data": {
            "text/plain": [
              "6    2198\n",
              "5    1457\n",
              "7     880\n",
              "8     175\n",
              "4     163\n",
              "3      20\n",
              "9       5\n",
              "Name: quality, dtype: int64"
            ]
          },
          "metadata": {},
          "execution_count": 34
        }
      ]
    },
    {
      "cell_type": "code",
      "source": [
        "# Calculating the mmode of quality feature. \n",
        "data['quality'].value_counts().index[0]"
      ],
      "metadata": {
        "colab": {
          "base_uri": "https://localhost:8080/"
        },
        "id": "N5eP_wmYkllE",
        "outputId": "5ba61056-2f01-45a6-e565-39fbb899566d"
      },
      "execution_count": null,
      "outputs": [
        {
          "output_type": "execute_result",
          "data": {
            "text/plain": [
              "6"
            ]
          },
          "metadata": {},
          "execution_count": 36
        }
      ]
    },
    {
      "cell_type": "markdown",
      "source": [
        "# Observation from task 2\n",
        "we saw distributions of various features using appropriate plots. \n",
        "We calculated central tendency measures. \n",
        "The mean and median of all of the features were almost same. \n",
        "The mode of the Quality feature can be choosen as representative value. "
      ],
      "metadata": {
        "id": "vUqLckGllCtm"
      }
    },
    {
      "cell_type": "markdown",
      "source": [
        "# Task 3  - Creating new pandas series that contains details of acid types for quality. \n"
      ],
      "metadata": {
        "id": "RvFH712_mBIo"
      }
    },
    {
      "cell_type": "code",
      "source": [
        "# Creating new pandas series that contains details of representative quality for thhe differnt types of acids. \n",
        "rep_acid = pd.Series(index = ['fixed acidity', 'volatile acidity', 'citric acid', 'quality'],\n",
        "                     data = [data['fixed acidity'].mean(), data['volatile acidity'].mean(), \n",
        "                             data['citric acid'].mean(), data['quality'].value_counts().index[0]])"
      ],
      "metadata": {
        "id": "310vpe1hmPaJ"
      },
      "execution_count": null,
      "outputs": []
    },
    {
      "cell_type": "code",
      "source": [
        "# Printing rep_acid series\n",
        "rep_acid"
      ],
      "metadata": {
        "colab": {
          "base_uri": "https://localhost:8080/"
        },
        "id": "jSekvjPQnhrz",
        "outputId": "9d10bb7e-6ec3-4ca2-b33e-6dad321b15f7"
      },
      "execution_count": null,
      "outputs": [
        {
          "output_type": "execute_result",
          "data": {
            "text/plain": [
              "fixed acidity       6.854788\n",
              "volatile acidity    0.278241\n",
              "citric acid         0.334192\n",
              "quality             6.000000\n",
              "dtype: float64"
            ]
          },
          "metadata": {},
          "execution_count": 39
        }
      ]
    },
    {
      "cell_type": "markdown",
      "source": [
        "# Observation from Task 3\n",
        "\n",
        "\n",
        "*   The average value of the fixed acidity would be 6.845\n",
        "*   The average value of the volatile acidity would be 0.2782\n",
        "*   The average value of citric acid would be 0.3341\n",
        "*   The quality of wine would be 6.\n",
        "\n",
        "\n",
        "\n"
      ],
      "metadata": {
        "id": "GuqZjRBBoBo2"
      }
    }
  ]
}